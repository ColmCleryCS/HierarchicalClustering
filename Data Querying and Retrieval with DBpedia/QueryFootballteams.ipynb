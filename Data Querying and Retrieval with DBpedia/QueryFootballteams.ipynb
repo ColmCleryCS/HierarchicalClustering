{
 "cells": [
  {
   "cell_type": "code",
   "execution_count": 1,
   "id": "photographic-addition",
   "metadata": {},
   "outputs": [],
   "source": [
    "from SPARQLWrapper import SPARQLWrapper, JSON\n",
    "import pandas as pd\n",
    "import pandas as pd\n",
    "import ast\n",
    "writer = pd.ExcelWriter('football_team_stats.xlsx', engine='xlsxwriter')\n",
    "writer.save()\n",
    "sparql = SPARQLWrapper('https://dbpedia.org/sparql')\n",
    "sparql.setTimeout(5000)"
   ]
  },
  {
   "cell_type": "code",
   "execution_count": 2,
   "id": "deadly-parent",
   "metadata": {},
   "outputs": [],
   "source": [
    "def get_json_football_data_gk_dimensions(league):\n",
    "    q1 = \"\"\"\n",
    "    PREFIX p: <http://dbpedia.org/property/> \n",
    "    PREFIX dbo: <http://dbpedia.org/ontology/>\n",
    "    SELECT (MAX(?clubname) as ?clubname) ?leagueResult ?capacity (concat('[',group_concat(distinct ?longitude;separator=','),']') as ?longitude) (concat('[',group_concat(distinct ?latitude;separator=','),']') as ?latitude) (concat('[\"',group_concat(distinct ?gkheight;separator='\",\"'),'\"]') as ?gkheight)   (AVG(year(xsd:dateTime(?gkbirthDate))) as ?gkbirthDate)  (concat('[',group_concat(distinct ?gknationalcaps;separator=','),']') as ?gknationalcaps)  (concat('[',group_concat(distinct ?gkclubcaps;separator=','),']') as ?gkclubcaps) WHERE {    \n",
    "    ?teamseason <http://purl.org/dc/terms/subject> \"\"\" + league + \"\"\" .\n",
    "    ?teamseason dbp:leagueResult ?leagueResult .\n",
    "    ?teamseason dbo:team ?team .\n",
    "    ?team dbp:capacity ?capacity .\n",
    "    ?team dbp:clubname ?clubname .\n",
    "    ?team dbo:ground ?ground .\n",
    "    ?ground geo:lat ?latitude .\n",
    "    ?ground geo:long ?longitude .\n",
    "    ?gks dbp:currentclub ?team .\n",
    "    ?gks dbp:position <http://dbpedia.org/resource/Goalkeeper_(association_football)> .\n",
    "    ?gks dbp:birthDate ?gkbirthDate .\n",
    "    ?gks dbp:height ?gkheight .\n",
    "    ?gks dbp:caps ?gkclubcaps .\n",
    "    ?gks dbp:nationalcaps ?gknationalcaps .\n",
    "    FILTER(datatype(?gknationalcaps) = <http://www.w3.org/2001/XMLSchema#integer>) .\n",
    "    FILTER(datatype(?gkclubcaps) = <http://www.w3.org/2001/XMLSchema#integer>) \n",
    "    }\"\"\"\n",
    "    \n",
    "    sparql.setQuery(q1)\n",
    "    sparql.setReturnFormat(JSON)\n",
    "    qres = sparql.query().convert()\n",
    "    return qres['results']['bindings']\n",
    "\n",
    "def get_json_football_data_df_dimensions(league):\n",
    "    q1 = \"\"\"\n",
    "    PREFIX p: <http://dbpedia.org/property/> \n",
    "    PREFIX dbo: <http://dbpedia.org/ontology/>\n",
    "    SELECT (MAX(?clubname) as ?clubname) ?leagueResult ?capacity (concat('[',group_concat(distinct ?longitude;separator=','),']') as ?longitude) (concat('[',group_concat(distinct ?latitude;separator=','),']') as ?latitude) (concat('[',group_concat(distinct ?dfclubcaps;separator=','),']') as ?dfclubcaps) (concat('[',group_concat(distinct ?dfnationalcaps;separator=','),']') as ?dfnationalcaps)  (AVG(year(xsd:dateTime(?dfbirthDate))) as ?dfbirthDate)   (concat('[\"',group_concat(distinct ?dfheight;separator='\",\"'),'\"]') as ?dfheight) \n",
    "    WHERE {    ?teamseason <http://purl.org/dc/terms/subject> \"\"\" + league + \"\"\" .\n",
    "    ?teamseason dbp:leagueResult ?leagueResult .\n",
    "    ?teamseason dbo:team ?team .\n",
    "    ?team dbp:capacity ?capacity .\n",
    "    ?team dbp:clubname ?clubname .\n",
    "    ?team dbo:ground ?ground .\n",
    "    ?ground geo:lat ?latitude .\n",
    "    ?ground geo:long ?longitude .\n",
    "\n",
    "    ?defenders dbp:currentclub ?team .\n",
    "    ?defenders dbp:position <http://dbpedia.org/resource/Defender_(association_football)> .\n",
    "    ?defenders dbp:birthDate ?dfbirthDate .\n",
    "    ?defenders dbp:height ?dfheight .\n",
    "    ?defenders dbp:caps ?dfclubcaps .\n",
    "    ?defenders dbp:nationalcaps ?dfnationalcaps .\n",
    "    FILTER(datatype(?dfnationalcaps) = <http://www.w3.org/2001/XMLSchema#integer>) .\n",
    "    FILTER(datatype(?dfclubcaps) = <http://www.w3.org/2001/XMLSchema#integer>)     \n",
    "    }\"\"\"\n",
    "    sparql.setQuery(q1)\n",
    "    sparql.setReturnFormat(JSON)\n",
    "    qres = sparql.query().convert()\n",
    "    return qres['results']['bindings']\n",
    "\n",
    "def get_json_football_data_mf_dimensions(league):\n",
    "    q1 = \"\"\"\n",
    "    PREFIX p: <http://dbpedia.org/property/> \n",
    "    PREFIX dbo: <http://dbpedia.org/ontology/>\n",
    "    SELECT (MAX(?clubname) as ?clubname) ?leagueResult ?capacity (concat('[',group_concat(distinct ?longitude;separator=','),']') as ?longitude) (concat('[',group_concat(distinct ?latitude;separator=','),']') as ?latitude) (concat('[',group_concat(distinct ?mfclubcaps;separator=','),']') as ?mfclubcaps) (concat('[',group_concat(distinct ?mfnationalcaps;separator=','),']') as ?mfnationalcaps)  (AVG(year(xsd:dateTime(?mfbirthDate))) as ?mfbirthDate)   (concat('[\"',group_concat(distinct ?mfheight;separator='\",\"'),'\"]') as ?mfheight) \n",
    "    WHERE {    ?teamseason <http://purl.org/dc/terms/subject> \"\"\" + league + \"\"\" .\n",
    "    ?teamseason dbp:leagueResult ?leagueResult .\n",
    "    ?teamseason dbo:team ?team .\n",
    "    ?team dbp:capacity ?capacity .\n",
    "    ?team dbp:clubname ?clubname .\n",
    "    ?team dbo:ground ?ground .\n",
    "    ?ground geo:lat ?latitude .\n",
    "    ?ground geo:long ?longitude .\n",
    "\n",
    "\n",
    "    ?midfielders dbp:currentclub ?team .\n",
    "    ?midfielders dbp:position <http://dbpedia.org/resource/Midfielder> .\n",
    "    ?midfielders dbp:birthDate ?mfbirthDate .\n",
    "    ?midfielders dbp:height ?mfheight .\n",
    "    ?midfielders dbp:caps ?mfclubcaps .\n",
    "    ?midfielders dbp:nationalcaps ?mfnationalcaps .             \n",
    "    FILTER(datatype(?mfclubcaps) = <http://www.w3.org/2001/XMLSchema#integer>) .\n",
    "    FILTER(datatype(?mfnationalcaps) = <http://www.w3.org/2001/XMLSchema#integer>) \n",
    "    }\"\"\"\n",
    "    \n",
    "\n",
    "    sparql.setQuery(q1)\n",
    "    sparql.setReturnFormat(JSON)\n",
    "    qres = sparql.query().convert()\n",
    "    return qres['results']['bindings']\n",
    "\n",
    "def get_json_football_data_fw_dimensions(league):\n",
    "    q1 = \"\"\"\n",
    "    PREFIX p: <http://dbpedia.org/property/> \n",
    "    PREFIX dbo: <http://dbpedia.org/ontology/>\n",
    "    SELECT (MAX(?clubname) as ?clubname) ?leagueResult ?capacity (concat('[',group_concat(distinct ?longitude;separator=','),']') as ?longitude) (concat('[',group_concat(distinct ?latitude;separator=','),']') as ?latitude) (concat('[\"',group_concat(distinct ?fwheight;separator='\",\"'),'\"]') as ?fwheight)   (AVG(year(xsd:dateTime(?fwbirthDate))) as ?fwbirthDate)  (concat('[',group_concat(distinct ?fwnationalcaps;separator=','),']') as ?fwnationalcaps)  (concat('[',group_concat(distinct ?fwclubcaps;separator=','),']') as ?fwclubcaps)  \n",
    "    WHERE {   ?teamseason <http://purl.org/dc/terms/subject> \"\"\" + league + \"\"\" .\n",
    "    ?teamseason dbp:leagueResult ?leagueResult .\n",
    "    ?teamseason dbo:team ?team .\n",
    "    ?team dbp:capacity ?capacity .\n",
    "    ?team dbp:clubname ?clubname .\n",
    "    ?team dbo:ground ?ground .\n",
    "    ?ground geo:lat ?latitude .\n",
    "    ?ground geo:long ?longitude .\n",
    "    \n",
    "    ?forwards dbp:currentclub ?team .\n",
    "    ?forwards dbp:position <http://dbpedia.org/resource/Forward_(association_football)>.\n",
    "    ?forwards dbp:birthDate ?fwbirthDate .\n",
    "    ?forwards dbp:height ?fwheight .\n",
    "    ?forwards dbp:caps ?fwclubcaps .\n",
    "    ?forwards dbp:nationalcaps ?fwnationalcaps .\n",
    "    FILTER(datatype(?fwnationalcaps) = <http://www.w3.org/2001/XMLSchema#integer>) .\n",
    "    FILTER(datatype(?fwclubcaps) = <http://www.w3.org/2001/XMLSchema#integer>) .\n",
    "    }\"\"\"\n",
    "    \n",
    "    sparql.setQuery(q1)\n",
    "    sparql.setReturnFormat(JSON)\n",
    "    qres = sparql.query().convert()\n",
    "    return qres['results']['bindings']"
   ]
  },
  {
   "cell_type": "code",
   "execution_count": 3,
   "id": "previous-jerusalem",
   "metadata": {},
   "outputs": [],
   "source": [
    "prem_data_1A = get_json_football_data_gk_dimensions(\"<http://dbpedia.org/resource/Category:2020–21_Premier_League_by_team>\")"
   ]
  },
  {
   "cell_type": "code",
   "execution_count": 4,
   "id": "least-belly",
   "metadata": {},
   "outputs": [],
   "source": [
    "prem_data_1B = get_json_football_data_df_dimensions(\"<http://dbpedia.org/resource/Category:2020–21_Premier_League_by_team>\")"
   ]
  },
  {
   "cell_type": "code",
   "execution_count": 5,
   "id": "bizarre-purchase",
   "metadata": {},
   "outputs": [],
   "source": [
    "prem_data_2 = get_json_football_data_mf_dimensions(\"<http://dbpedia.org/resource/Category:2020–21_Premier_League_by_team>\")"
   ]
  },
  {
   "cell_type": "code",
   "execution_count": 6,
   "id": "great-laser",
   "metadata": {},
   "outputs": [],
   "source": [
    "prem_data_3 = get_json_football_data_fw_dimensions(\"<http://dbpedia.org/resource/Category:2020–21_Premier_League_by_team>\")"
   ]
  },
  {
   "cell_type": "code",
   "execution_count": 7,
   "id": "corrected-catalog",
   "metadata": {},
   "outputs": [],
   "source": [
    "championship_data_1 = get_json_football_data_gk_dimensions(\"<http://dbpedia.org/resource/Category:2020–21_EFL_Championship_by_team>\")"
   ]
  },
  {
   "cell_type": "code",
   "execution_count": 8,
   "id": "skilled-springfield",
   "metadata": {},
   "outputs": [],
   "source": [
    "championship_data_1B = get_json_football_data_df_dimensions(\"<http://dbpedia.org/resource/Category:2020–21_EFL_Championship_by_team>\")"
   ]
  },
  {
   "cell_type": "code",
   "execution_count": 9,
   "id": "industrial-exhibition",
   "metadata": {},
   "outputs": [],
   "source": [
    "championship_data_2 = get_json_football_data_mf_dimensions(\"<http://dbpedia.org/resource/Category:2020–21_EFL_Championship_by_team>\")"
   ]
  },
  {
   "cell_type": "code",
   "execution_count": 10,
   "id": "adverse-snowboard",
   "metadata": {},
   "outputs": [],
   "source": [
    "championship_data_3 = get_json_football_data_fw_dimensions(\"<http://dbpedia.org/resource/Category:2020–21_EFL_Championship_by_team>\")"
   ]
  },
  {
   "cell_type": "code",
   "execution_count": 11,
   "id": "honey-finnish",
   "metadata": {},
   "outputs": [],
   "source": [
    "leagueone_data_1A = get_json_football_data_gk_dimensions(\"<http://dbpedia.org/resource/Category:2020–21_EFL_League_One_by_team>\")"
   ]
  },
  {
   "cell_type": "code",
   "execution_count": 12,
   "id": "public-desktop",
   "metadata": {},
   "outputs": [],
   "source": [
    "leagueone_data_1B = get_json_football_data_df_dimensions(\"<http://dbpedia.org/resource/Category:2020–21_EFL_League_One_by_team>\")"
   ]
  },
  {
   "cell_type": "code",
   "execution_count": 13,
   "id": "rotary-writer",
   "metadata": {},
   "outputs": [],
   "source": [
    "leagueone_data_2 = get_json_football_data_mf_dimensions(\"<http://dbpedia.org/resource/Category:2020–21_EFL_League_One_by_team>\")"
   ]
  },
  {
   "cell_type": "code",
   "execution_count": 14,
   "id": "palestinian-brain",
   "metadata": {},
   "outputs": [],
   "source": [
    "leagueone_data_3 = get_json_football_data_fw_dimensions(\"<http://dbpedia.org/resource/Category:2020–21_EFL_League_One_by_team>\")"
   ]
  },
  {
   "cell_type": "code",
   "execution_count": 15,
   "id": "united-cricket",
   "metadata": {},
   "outputs": [],
   "source": [
    "def get_all_teams_gk(premier_league,championship,leagueone):\n",
    "    team_attributes_dct = {\"clubname\":[], \"league\":[],\"longitude\":[],\"latitude\":[],\"leagueResult\":[], \"capacity\":[], \"gkheight\":[], \"gkbirthDate\":[], \"gknationalcaps\":[], \"gkclubcaps\":[]}                     \n",
    "    leagues = [premier_league,championship,leagueone]\n",
    "    type_string = [\"premier_league\",\"championship\",\"leagueone\"]\n",
    "    index = 0\n",
    "    for league in leagues:\n",
    "        for team in league:\n",
    "            team_attributes_dct[\"clubname\"].append(team['clubname']['value'])\n",
    "            team_attributes_dct[\"longitude\"].append(team['longitude']['value'])\n",
    "            team_attributes_dct[\"latitude\"].append(team['latitude']['value'])\n",
    "            team_attributes_dct[\"leagueResult\"].append(team['leagueResult']['value'])\n",
    "            team_attributes_dct[\"league\"].append(type_string[index])\n",
    "            team_attributes_dct[\"capacity\"].append(team['capacity']['value'])\n",
    "            heightLst = ast.literal_eval(team['gkheight']['value'])\n",
    "            i = 0\n",
    "            sum_heights = 0\n",
    "            for item in heightLst:\n",
    "                sum_heights += float(item.replace(\"m\", \"\").strip())\n",
    "                i += 1\n",
    "            team_attributes_dct[\"gkheight\"].append(sum_heights/i)\n",
    "            team_attributes_dct[\"gkbirthDate\"].append(team['gkbirthDate']['value'])\n",
    "            team_attributes_dct[\"gknationalcaps\"].append(sum(ast.literal_eval(team['gknationalcaps']['value']))/len(ast.literal_eval(team['gknationalcaps']['value'])))\n",
    "            team_attributes_dct[\"gkclubcaps\"].append(sum(ast.literal_eval(team['gkclubcaps']['value']))/len(ast.literal_eval(team['gkclubcaps']['value'])))\n",
    "        index += 1\n",
    "    return team_attributes_dct\n"
   ]
  },
  {
   "cell_type": "code",
   "execution_count": 16,
   "id": "canadian-developer",
   "metadata": {},
   "outputs": [],
   "source": [
    "def get_all_teams_def(premier_league,championship,leagueone):\n",
    "    team_attributes_dct = {\"clubname\":[], \"longitude\":[],\"latitude\":[],\"league\":[],\"leagueResult\":[], \"capacity\":[], \"dfclubcaps\":[], \"dfnationalcaps\":[], \"dfbirthDate\":[], \"dfheight\":[]}    \n",
    "    leagues = [premier_league,championship,leagueone]\n",
    "    type_string = [\"premier_league\",\"championship\",\"leagueone\"]\n",
    "    index = 0\n",
    "    for league in leagues:\n",
    "        for team in league:\n",
    "            team_attributes_dct[\"clubname\"].append(team['clubname']['value'])\n",
    "            team_attributes_dct[\"longitude\"].append(team['longitude']['value'])\n",
    "            team_attributes_dct[\"latitude\"].append(team['latitude']['value'])\n",
    "            team_attributes_dct[\"leagueResult\"].append(team['leagueResult']['value'])                   \n",
    "            team_attributes_dct[\"league\"].append(type_string[index])\n",
    "            team_attributes_dct[\"capacity\"].append(team['capacity']['value'])\n",
    "            team_attributes_dct[\"dfclubcaps\"].append(sum(ast.literal_eval(team['dfclubcaps']['value']))/len(ast.literal_eval(team['dfclubcaps']['value'])))\n",
    "            team_attributes_dct[\"dfnationalcaps\"].append(sum(ast.literal_eval(team['dfnationalcaps']['value']))/len(ast.literal_eval(team['dfnationalcaps']['value'])))\n",
    "            team_attributes_dct[\"dfbirthDate\"].append(team['dfbirthDate']['value'])\n",
    "            heightLst = ast.literal_eval(team['dfheight']['value'])\n",
    "            i = 0\n",
    "            sum_heights = 0\n",
    "            for item in heightLst:\n",
    "                sum_heights += float(item.replace(\"m\", \"\").strip())\n",
    "                i += 1\n",
    "            team_attributes_dct[\"dfheight\"].append(sum_heights/i)\n",
    "        index += 1\n",
    "    return team_attributes_dct\n"
   ]
  },
  {
   "cell_type": "code",
   "execution_count": 17,
   "id": "intermediate-globe",
   "metadata": {},
   "outputs": [],
   "source": [
    "def get_all_teams_mid(premier_league,championship,leagueone):\n",
    "    team_attributes_dct = {\"clubname\":[], \"longitude\":[],\"latitude\":[],\"league\":[],\"leagueResult\":[], \"capacity\":[], \"mfheight\":[], \"mfbirthDate\":[], \"mfnationalcaps\":[], \"mfclubcaps\":[]}\n",
    "    leagues = [premier_league,championship,leagueone]\n",
    "    type_string = [\"premier_league\",\"championship\",\"leagueone\"]\n",
    "    index = 0\n",
    "    for league in leagues:\n",
    "        for team in league:\n",
    "            team_attributes_dct[\"clubname\"].append(team['clubname']['value'])\n",
    "            team_attributes_dct[\"longitude\"].append(team['longitude']['value'])\n",
    "            team_attributes_dct[\"latitude\"].append(team['latitude']['value'])\n",
    "            team_attributes_dct[\"leagueResult\"].append(team['leagueResult']['value'])\n",
    "            team_attributes_dct[\"league\"].append(type_string[index])\n",
    "            team_attributes_dct[\"capacity\"].append(team['capacity']['value'])\n",
    "            team_attributes_dct[\"mfclubcaps\"].append(sum(ast.literal_eval(team['mfclubcaps']['value']))/len(ast.literal_eval(team['mfclubcaps']['value'])))\n",
    "            team_attributes_dct[\"mfnationalcaps\"].append(sum(ast.literal_eval(team['mfnationalcaps']['value']))/len(ast.literal_eval(team['mfnationalcaps']['value'])))\n",
    "            team_attributes_dct[\"mfbirthDate\"].append(team['mfbirthDate']['value'])\n",
    "            heightLst = ast.literal_eval(team['mfheight']['value'])\n",
    "            i = 0\n",
    "            sum_heights = 0\n",
    "            for item in heightLst:\n",
    "                sum_heights += float(item.replace(\"m\", \"\").strip())\n",
    "                i += 1\n",
    "            team_attributes_dct[\"mfheight\"].append(sum_heights/i)\n",
    "\n",
    "        index += 1\n",
    "    return team_attributes_dct"
   ]
  },
  {
   "cell_type": "code",
   "execution_count": 18,
   "id": "parliamentary-industry",
   "metadata": {},
   "outputs": [],
   "source": [
    "def get_all_teams_fow(premier_league,championship,leagueone):\n",
    "    team_attributes_dct = {\"clubname\":[], \"longitude\":[],\"latitude\":[],\"league\":[],\"leagueResult\":[], \"capacity\":[], \"fwheight\":[], \"fwbirthDate\":[], \"fwnationalcaps\":[], \"fwclubcaps\":[]}\n",
    "    leagues = [premier_league,championship,leagueone]\n",
    "    type_string = [\"premier_league\",\"championship\",\"leagueone\"]\n",
    "    index = 0\n",
    "    for league in leagues:\n",
    "        for team in league:\n",
    "            team_attributes_dct[\"clubname\"].append(team['clubname']['value'])\n",
    "            team_attributes_dct[\"longitude\"].append(team['longitude']['value'])\n",
    "            team_attributes_dct[\"latitude\"].append(team['latitude']['value'])\n",
    "            team_attributes_dct[\"leagueResult\"].append(team['leagueResult']['value'])\n",
    "            team_attributes_dct[\"league\"].append(type_string[index])\n",
    "            team_attributes_dct[\"capacity\"].append(team['capacity']['value'])\n",
    "            team_attributes_dct[\"fwclubcaps\"].append(sum(ast.literal_eval(team['fwclubcaps']['value']))/len(ast.literal_eval(team['fwclubcaps']['value'])))\n",
    "            team_attributes_dct[\"fwnationalcaps\"].append(sum(ast.literal_eval(team['fwnationalcaps']['value']))/len(ast.literal_eval(team['fwnationalcaps']['value'])))\n",
    "            team_attributes_dct[\"fwbirthDate\"].append(team['fwbirthDate']['value'])\n",
    "            heightLst = ast.literal_eval(team['fwheight']['value'])\n",
    "            i = 0\n",
    "            sum_heights = 0\n",
    "            for item in heightLst:\n",
    "                sum_heights += float(item.replace(\"m\", \"\").strip())\n",
    "                i += 1\n",
    "            team_attributes_dct[\"fwheight\"].append(sum_heights/i)\n",
    "\n",
    "        index += 1\n",
    "    return team_attributes_dct"
   ]
  },
  {
   "cell_type": "code",
   "execution_count": 19,
   "id": "chubby-format",
   "metadata": {},
   "outputs": [],
   "source": [
    "dct1 = get_all_teams_gk(prem_data_1A,championship_data_1,leagueone_data_1A)\n",
    "dct2 = get_all_teams_def(prem_data_1B,championship_data_1B,leagueone_data_1B)\n",
    "dct3 = get_all_teams_mid(prem_data_2,championship_data_2,leagueone_data_2)\n",
    "dct4 = get_all_teams_fow(prem_data_3,championship_data_3,leagueone_data_3)"
   ]
  },
  {
   "cell_type": "code",
   "execution_count": 20,
   "id": "preceding-salvation",
   "metadata": {},
   "outputs": [],
   "source": [
    "import pandas as pd\n",
    "\n",
    "df1 = pd.DataFrame(dct1)\n",
    "df2 = pd.DataFrame(dct2)\n",
    "df3 = pd.DataFrame(dct3)\n",
    "df4 = pd.DataFrame(dct4)\n",
    "writer = pd.ExcelWriter('football_team_stats.xlsx', engine='xlsxwriter')\n",
    "df1.to_excel(writer, sheet_name='Sheet1_Teams_Gk_Stats', index=False)\n",
    "df2.to_excel(writer, sheet_name='Sheet2_Teams_DF_Stats', index=False)\n",
    "df3.to_excel(writer, sheet_name='Sheet3_Teams_Midfielder_Stats', index=False)\n",
    "df4.to_excel(writer, sheet_name='Sheet4_Teams_Forward_Stats', index=False)\n",
    "writer.save()"
   ]
  }
 ],
 "metadata": {
  "kernelspec": {
   "display_name": "Python 3",
   "language": "python",
   "name": "python3"
  },
  "language_info": {
   "codemirror_mode": {
    "name": "ipython",
    "version": 3
   },
   "file_extension": ".py",
   "mimetype": "text/x-python",
   "name": "python",
   "nbconvert_exporter": "python",
   "pygments_lexer": "ipython3",
   "version": "3.8.5"
  }
 },
 "nbformat": 4,
 "nbformat_minor": 5
}
