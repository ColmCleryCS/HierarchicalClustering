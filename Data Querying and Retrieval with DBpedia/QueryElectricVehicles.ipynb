{
 "cells": [
  {
   "cell_type": "code",
   "execution_count": 1,
   "id": "geological-sentence",
   "metadata": {},
   "outputs": [],
   "source": [
    "from SPARQLWrapper import SPARQLWrapper, JSON\n",
    "import pandas as pd\n",
    "import ast"
   ]
  },
  {
   "cell_type": "code",
   "execution_count": 27,
   "id": "prospective-excuse",
   "metadata": {},
   "outputs": [],
   "source": [
    "import pandas as pd\n",
    "writer = pd.ExcelWriter('electronic_vehicles_final.xlsx', engine='xlsxwriter')\n",
    "writer.save()"
   ]
  },
  {
   "cell_type": "code",
   "execution_count": 3,
   "id": "incorrect-catalyst",
   "metadata": {},
   "outputs": [],
   "source": [
    "sparql = SPARQLWrapper('https://dbpedia.org/sparql')"
   ]
  },
  {
   "cell_type": "code",
   "execution_count": 4,
   "id": "consolidated-american",
   "metadata": {},
   "outputs": [],
   "source": [
    "def get_json_car_data(category):\n",
    "\n",
    "    q1 = \"\"\"SELECT distinct ?car ?name ?motor ?charging ?doors (concat('[\"',group_concat(distinct ?longitude;separator='\",\"'),'\"]') as ?longitude) (concat('[\"',group_concat(distinct ?latitude;separator='\",\"'),'\"]') as ?latitude) (concat('[\"',group_concat(distinct ?electricRange;separator='\",\"'),'\"]') as ?electricRange) (concat('[\"',group_concat(distinct ?layout;separator='\",\"'),'\"]') as ?layout) (concat('[\"',group_concat(distinct ?bodyStyle;separator='\",\"'),'\"]') as ?bodyStyle) ?drivetrain ?wheelbase (concat('[\"',group_concat(distinct ?engine;separator='\",\"'),'\"]') as ?engine) (concat('[\"',group_concat(distinct ?versionnames;separator='\",\"'),'\"]') as ?versionnames) (concat('[\"',group_concat(distinct ?productionStartYear;separator='\",\"'),'\"]') as ?productionStartYear) (concat('[\"',group_concat(distinct ?productionEndYear;separator='\",\"'),'\"]') as ?productionEndYear) (concat('[\"',group_concat(distinct ?transmission;separator='\",\"'),'\"]') as ?transmission) ?height ?length ?width (concat('[\"',group_concat(distinct ?manufacturer;separator='\",\"'),'\"]') as ?manufacturer) (concat('[\"',group_concat(distinct ?production;separator='\",\"'),'\"]') as ?production)  (concat('[\"',group_concat(distinct ?areaServed;separator='\",\"'),'\"]') as ?areaServed) ?locationCountry\n",
    "    WHERE {\n",
    "        ?car <http://purl.org/dc/terms/subject> \"\"\" + category + \"\"\" .\n",
    "        ?car rdfs:label ?name .\n",
    "        ?car dbo:manufacturer ?man .\n",
    "        ?man rdfs:label ?manufacturer .\n",
    "        ?man dbp:locationCity ?location  .\n",
    "        ?location geo:lat ?latitude .\n",
    "        ?location geo:long ?longitude .\n",
    "        OPTIONAL {?car dbp:engine ?engine} .\n",
    "        OPTIONAL {?car dbp:electricRange ?electricRange} .\n",
    "        OPTIONAL {?car dbp:charging ?charging} .\n",
    "        OPTIONAL {?car dbp:bodyStyle ?bodyStyle} .\n",
    "        OPTIONAL {?car dbp:doors ?doors} .\n",
    "        OPTIONAL {?car dbp:motor ?motor} .\n",
    "        OPTIONAL {?car dbp:layout ?layout} .\n",
    "        OPTIONAL {?car dbp:drivetrain ?drivetrain} .\n",
    "        OPTIONAL {?car dbo:wheelbase ?wheelbase} .\n",
    "        OPTIONAL {?car dbo:height ?height} .\n",
    "        OPTIONAL {?car dbo:transmission|dbp:transmission ?transmission} .\n",
    "        OPTIONAL {?car dbo:productionStartYear ?productionStartYear} .\n",
    "        OPTIONAL {?car dbo:productionEndYear ?productionEndYear} .\n",
    "        OPTIONAL {?man dbp:areaServed ?areaServed} .\n",
    "        OPTIONAL {?man dbp:locationCountry ?locationCountry} .\n",
    "        OPTIONAL {?car dbo:length ?length} .\n",
    "        OPTIONAL {?car dbo:width ?width} .\n",
    "        OPTIONAL {?car dbp:production ?production} .\n",
    "        filter( langMatches(lang(?manufacturer),\"en\")\n",
    "          && langMatches(lang(?name),\"en\") ) \n",
    "    }\n",
    "    \"\"\"\n",
    "    sparql.setQuery(q1)\n",
    "    sparql.setReturnFormat(JSON)\n",
    "    qres = sparql.query().convert()\n",
    "    return qres['results']['bindings']\n",
    "\n"
   ]
  },
  {
   "cell_type": "code",
   "execution_count": 5,
   "id": "close-event",
   "metadata": {},
   "outputs": [],
   "source": [
    "def check_if_property_in_dct(prop,dct):\n",
    "    if prop in dct:\n",
    "        return True\n",
    "    else:\n",
    "        return False"
   ]
  },
  {
   "cell_type": "code",
   "execution_count": 6,
   "id": "forty-expression",
   "metadata": {},
   "outputs": [],
   "source": [
    "electric_cars_all = get_json_car_data(\"<http://dbpedia.org/resource/Category:Electric_cars>\")"
   ]
  },
  {
   "cell_type": "code",
   "execution_count": 7,
   "id": "twelve-logic",
   "metadata": {},
   "outputs": [],
   "source": [
    "electric_vehicles_all = get_json_car_data(\"<http://dbpedia.org/resource/Category:Electric_vehicles>\")"
   ]
  },
  {
   "cell_type": "code",
   "execution_count": 8,
   "id": "coastal-stupid",
   "metadata": {},
   "outputs": [],
   "source": [
    "battery_electric_cars_currently_in_production_all = get_json_car_data(\"<http://dbpedia.org/resource/Category:Battery_electric_cars_currently_in_production>\")"
   ]
  },
  {
   "cell_type": "code",
   "execution_count": 9,
   "id": "egyptian-poster",
   "metadata": {},
   "outputs": [],
   "source": [
    "battery_electric_cars_in_development_all = get_json_car_data(\"<http://dbpedia.org/resource/Category:Battery_electric_cars_in_development>\")"
   ]
  },
  {
   "cell_type": "code",
   "execution_count": 10,
   "id": "sonic-samba",
   "metadata": {},
   "outputs": [],
   "source": [
    "battery_electric_cars_that_were_formerly_produced_all = get_json_car_data(\"<http://dbpedia.org/resource/Category:Battery_electric_cars_that_were_formerly_produced>\")"
   ]
  },
  {
   "cell_type": "code",
   "execution_count": 11,
   "id": "swedish-leonard",
   "metadata": {},
   "outputs": [],
   "source": [
    "battery_electric_concept_cars_all  = get_json_car_data(\"<http://dbpedia.org/resource/Category:Battery_electric_concept_cars>\")"
   ]
  },
  {
   "cell_type": "code",
   "execution_count": 12,
   "id": "alike-cycling",
   "metadata": {},
   "outputs": [],
   "source": [
    "electric_city_cars_all = get_json_car_data(\"<http://dbpedia.org/resource/Category:Electric_city_cars>\")"
   ]
  },
  {
   "cell_type": "markdown",
   "id": "ancient-civilization",
   "metadata": {},
   "source": [
    "This is a category with sub-categories inside it ."
   ]
  },
  {
   "cell_type": "code",
   "execution_count": 13,
   "id": "abroad-spoke",
   "metadata": {},
   "outputs": [],
   "source": [
    "electric_car_models_all = get_json_car_data(\"<http://dbpedia.org/resource/Category:Electric_car_models>\")"
   ]
  },
  {
   "cell_type": "code",
   "execution_count": 14,
   "id": "magnetic-recovery",
   "metadata": {},
   "outputs": [],
   "source": [
    "electric_concept_cars_all = get_json_car_data(\"<http://dbpedia.org/resource/Category:Electric_concept_cars>\")"
   ]
  },
  {
   "cell_type": "code",
   "execution_count": 15,
   "id": "driven-fifteen",
   "metadata": {},
   "outputs": [],
   "source": [
    "ORA_vehicles_all = get_json_car_data(\"<http://dbpedia.org/resource/Category:ORA_vehicles>\")\n"
   ]
  },
  {
   "cell_type": "code",
   "execution_count": 16,
   "id": "addressed-sample",
   "metadata": {},
   "outputs": [],
   "source": [
    "electric_sport_utility_vehicles_all = get_json_car_data(\"<http://dbpedia.org/resource/Category:Electric_sport_utility_vehicles>\")"
   ]
  },
  {
   "cell_type": "code",
   "execution_count": 17,
   "id": "angry-payday",
   "metadata": {},
   "outputs": [],
   "source": [
    "hybrid_sport_utility_vehicles_all = get_json_car_data(\"<http://dbpedia.org/resource/Category:Hybrid_sport_utility_vehicles>\")"
   ]
  },
  {
   "cell_type": "markdown",
   "id": "impaired-london",
   "metadata": {},
   "source": [
    "Sub-category is over"
   ]
  },
  {
   "cell_type": "markdown",
   "id": "strong-consumption",
   "metadata": {},
   "source": [
    "This type has one sub-category"
   ]
  },
  {
   "cell_type": "code",
   "execution_count": 18,
   "id": "manufactured-ensemble",
   "metadata": {},
   "outputs": [],
   "source": [
    "hybrid_electric_cars_all = get_json_car_data(\"<http://dbpedia.org/resource/Category:Hybrid_electric_cars>\")"
   ]
  },
  {
   "cell_type": "code",
   "execution_count": 19,
   "id": "young-imperial",
   "metadata": {},
   "outputs": [],
   "source": [
    "diesel_electric_cars_all = get_json_car_data(\"<http://dbpedia.org/resource/Category:Diesel-electric_cars>\")"
   ]
  },
  {
   "cell_type": "code",
   "execution_count": 20,
   "id": "lasting-arbitration",
   "metadata": {},
   "outputs": [],
   "source": [
    "self_driving_cars_all = get_json_car_data(\"<http://dbpedia.org/resource/Category:Self-driving_cars>\")"
   ]
  },
  {
   "cell_type": "code",
   "execution_count": 21,
   "id": "forward-poetry",
   "metadata": {},
   "outputs": [],
   "source": [
    "electric_sports_cars_all = get_json_car_data(\"<http://dbpedia.org/resource/Category:Electric_sports_cars>\")"
   ]
  },
  {
   "cell_type": "code",
   "execution_count": 22,
   "id": "hazardous-investigator",
   "metadata": {},
   "outputs": [
    {
     "name": "stdout",
     "output_type": "stream",
     "text": [
      "Total amount of electronic vehicles returned with all features:  678\n"
     ]
    }
   ],
   "source": [
    "print(\"Total amount of electronic vehicles returned with all features: \", len(electric_cars_all) + len(electric_vehicles_all) + len(electric_car_models_all) + len(battery_electric_cars_currently_in_production_all) + len(battery_electric_cars_in_development_all) + len(battery_electric_cars_that_were_formerly_produced_all) + len(battery_electric_concept_cars_all) + len(electric_city_cars_all)  + len(electric_concept_cars_all) + len(ORA_vehicles_all) + len(electric_sport_utility_vehicles_all) + len(hybrid_sport_utility_vehicles_all) + len(hybrid_electric_cars_all) + len(diesel_electric_cars_all) + len(self_driving_cars_all) + len(electric_sports_cars_all))"
   ]
  },
  {
   "cell_type": "code",
   "execution_count": 23,
   "id": "dirty-constraint",
   "metadata": {},
   "outputs": [],
   "source": [
    "def check_if_vehicle_already_in_dataset(dct,name):\n",
    "    vehicle_already_present = False\n",
    "    for names in dct[\"Name\"]:\n",
    "        if names == name:\n",
    "            vehicle_already_present = True\n",
    "    return vehicle_already_present"
   ]
  },
  {
   "cell_type": "code",
   "execution_count": 24,
   "id": "improving-dispute",
   "metadata": {},
   "outputs": [],
   "source": [
    "\n",
    "def get_all_electronic_vehicles(electric_cars, electric_vehicles, electric_car_models, battery_electric_cars_currently_in_production, battery_electric_cars_in_development, battery_electric_cars_that_were_formerly_produced, battery_electric_concept_cars, electric_city_cars, electric_concept_cars, ORA_vehicles, electric_sport_utility_vehicles, hybrid_sport_utility_vehicles, hybrid_electric_cars, diesel_electric_cars, self_driving_cars, electric_sports_cars):\n",
    "    elec_vehicles_dct = {\"Name\":[],\"Layout\":[],\"Location Country\":[],\"Longitude\":[],\"Latitude\":[],\"Production End Year\":[],\"Electric Range\":[],\"Charging\":[],\"Doors\":[],\"Body Style\":[],\"Engine\":[], \"Wheelbase\":[],\"Drivetrain\":[], \"Motor\":[],\"Production Start Year\":[],\"Transmission Type\":[],\"Manufacturer\":[],\"Type of car\":[],\"Height\" : [],\"Length\" : [],\"Width\" : [], \"In Production Since\" : [], \"Area Served\" : []}\n",
    "    types_of_car = [electric_cars, electric_vehicles, electric_car_models, battery_electric_cars_currently_in_production, battery_electric_cars_in_development, battery_electric_cars_that_were_formerly_produced, battery_electric_concept_cars, electric_city_cars, electric_concept_cars, ORA_vehicles, electric_sport_utility_vehicles, hybrid_sport_utility_vehicles, hybrid_electric_cars, diesel_electric_cars, self_driving_cars, electric_sports_cars]\n",
    "    type_string = [ \"electric_cars\", \"electric_vehicles\", \"electric_car_models\", \"battery_electric_cars_currently_in_production\",\"battery_electric_cars_in_development\", \"battery_electric_cars_that_were_formerly_produced\", \"battery_electric_concept_cars\", \"electric_city_cars\", \"electric_concept_cars\", \"ORA_vehicles\", \"electric_sport_utility_vehicles\", \"hybrid_sport_utility_vehicles\",\"hybrid_electric_cars\", \"diesel_electric_cars\",\"self_driving_cars\", \"electric_sports_cars\"]\n",
    "    print(\"Total amount of electronic vehicles returned: \", len(electric_cars) + len(electric_vehicles) + len(electric_car_models) + len(battery_electric_cars_currently_in_production) + len(battery_electric_cars_in_development) + len(battery_electric_cars_that_were_formerly_produced) + len(battery_electric_concept_cars) + len(electric_city_cars)  + len(electric_concept_cars) + len(ORA_vehicles) + len(electric_sport_utility_vehicles) + len(hybrid_sport_utility_vehicles) + len(hybrid_electric_cars) + len(diesel_electric_cars) + len(self_driving_cars) + len(electric_sports_cars))\n",
    "    index = 0\n",
    "    height = 0\n",
    "    length = 0\n",
    "    width = 0\n",
    "    layout = 0\n",
    "    productionStartYear = 0\n",
    "    transmission = 0\n",
    "    production = 0\n",
    "    areaServed = 0\n",
    "    motor=0\n",
    "    locationCountry=0\n",
    "    wheelbase =0\n",
    "    drivetrain =0\n",
    "    bodyStyle = 0\n",
    "    doors = 0\n",
    "    charging = 0\n",
    "    electricRange = 0\n",
    "    productionEndYear = 0\n",
    "\n",
    "    for car_types in types_of_car:\n",
    "        for car in car_types:          \n",
    "            if check_if_vehicle_already_in_dataset(elec_vehicles_dct,car['name']['value']) == False:\n",
    "                elec_vehicles_dct[\"Name\"].append(car['name']['value'])\n",
    "                elec_vehicles_dct[\"Manufacturer\"].append(car['manufacturer']['value'])\n",
    "                elec_vehicles_dct[\"Longitude\"].append(ast.literal_eval(car['longitude']['value']))\n",
    "                elec_vehicles_dct[\"Latitude\"].append(ast.literal_eval(car['latitude']['value']))\n",
    "                elec_vehicles_dct[\"Type of car\"].append(type_string[index])\n",
    "\n",
    "                if check_if_property_in_dct('height',car) == True:\n",
    "                    elec_vehicles_dct[\"Height\"].append(car['height']['value'])\n",
    "                    height += 1\n",
    "                else:\n",
    "                    elec_vehicles_dct[\"Height\"].append(\"\")\n",
    "                    height += 1\n",
    "\n",
    "                if check_if_property_in_dct('length',car) == True:\n",
    "                    elec_vehicles_dct[\"Length\"].append(car['length']['value'])\n",
    "                    length += 1\n",
    "                else:\n",
    "                    elec_vehicles_dct[\"Length\"].append(\"\")\n",
    "                    length += 1\n",
    "\n",
    "                if check_if_property_in_dct('width',car) == True:\n",
    "                    elec_vehicles_dct[\"Width\"].append(car['width']['value'])\n",
    "                    width += 1\n",
    "                else:\n",
    "                    elec_vehicles_dct[\"Width\"].append(\"\")\n",
    "                    width += 1\n",
    "                    \n",
    "                if check_if_property_in_dct('layout',car) == True:\n",
    "                    elec_vehicles_dct[\"Layout\"].append(car['layout']['value'])\n",
    "                    layout += 1\n",
    "                else:\n",
    "                    elec_vehicles_dct[\"Layout\"].append(\"\")\n",
    "                    layout += 1\n",
    "                \n",
    "                    \n",
    "                \n",
    "                if check_if_property_in_dct('productionStartYear',car) == True:\n",
    "                    elec_vehicles_dct[\"Production Start Year\"].append(car['productionStartYear']['value'])\n",
    "                    productionStartYear += 1\n",
    "                else:\n",
    "                    elec_vehicles_dct[\"production Start Year\"].append(\"\")\n",
    "                    productionStartYear +=1\n",
    "                         \n",
    "                \n",
    "                if check_if_property_in_dct('transmission',car) == True:\n",
    "                    elec_vehicles_dct[\"Transmission Type\"].append(car['transmission']['value'])\n",
    "                    transmission += 1\n",
    "                else:\n",
    "                    elec_vehicles_dct[\"Transmission Type\"].append(\"\")\n",
    "                    transmission += 1\n",
    "\n",
    "                if check_if_property_in_dct('production',car) == True:\n",
    "                    elec_vehicles_dct[\"In Production Since\"].append(car['production']['value'])\n",
    "                    production += 1\n",
    "                else:\n",
    "                    elec_vehicles_dct[\"In Production Since\"].append(\"\")\n",
    "                    production += 1\n",
    "\n",
    "                if check_if_property_in_dct('areaServed',car) == True:\n",
    "                    elec_vehicles_dct[\"Area Served\"].append(car['areaServed']['value'])\n",
    "                    areaServed += 1\n",
    "                    \n",
    "                else:\n",
    "                    elec_vehicles_dct[\"Area Served\"].append(\"\")\n",
    "                    areaServed +=1\n",
    "                \n",
    "                if check_if_property_in_dct('motor',car) == True:\n",
    "                    elec_vehicles_dct[\"Motor\"].append(car['motor']['value'])\n",
    "                    motor += 1\n",
    "                else:\n",
    "                    elec_vehicles_dct[\"Motor\"].append(\"\")\n",
    "                    motor +=1\n",
    "\n",
    "                if check_if_property_in_dct('locationCountry',car) == True:\n",
    "                    elec_vehicles_dct[\"Location Country\"].append(car['locationCountry']['value'])\n",
    "                    locationCountry += 1\n",
    "                else:\n",
    "                    elec_vehicles_dct[\"Location Country\"].append(\"\")\n",
    "                    locationCountry += 1\n",
    "                \n",
    "                if check_if_property_in_dct('wheelbase',car) == True:\n",
    "                    elec_vehicles_dct[\"Wheelbase\"].append(car['wheelbase']['value'])\n",
    "                    wheelbase += 1\n",
    "                else:\n",
    "                    elec_vehicles_dct[\"Wheelbase\"].append(\"\")\n",
    "                    wheelbase += 1\n",
    "                \n",
    "                if check_if_property_in_dct('engine',car) == True:\n",
    "                    elec_vehicles_dct[\"Engine\"].append(car['engine']['value'])\n",
    "                    wheelbase += 1\n",
    "                else:\n",
    "                    elec_vehicles_dct[\"Engine\"].append(\"\")\n",
    "                    wheelbase += 1\n",
    "                \n",
    "                if check_if_property_in_dct('drivetrain',car) == True:\n",
    "                    elec_vehicles_dct[\"Drivetrain\"].append(car['drivetrain']['value'])\n",
    "                    drivetrain += 1\n",
    "                else:\n",
    "                    elec_vehicles_dct[\"Drivetrain\"].append(\"\")\n",
    "                    drivetrain += 1\n",
    "                \n",
    "                if check_if_property_in_dct('bodyStyle',car) == True:\n",
    "                    elec_vehicles_dct[\"Body Style\"].append(car['bodyStyle']['value'])\n",
    "                    bodyStyle += 1\n",
    "                else:\n",
    "                    elec_vehicles_dct[\"Body Style\"].append(\"\")\n",
    "                    bodyStyle += 1\n",
    "                    \n",
    "                    \n",
    "                if check_if_property_in_dct('doors',car) == True:\n",
    "                    elec_vehicles_dct[\"Doors\"].append(car['doors']['value'])\n",
    "                    doors += 1\n",
    "                else:\n",
    "                    elec_vehicles_dct[\"Doors\"].append(\"\")\n",
    "                    doors += 1\n",
    "                    \n",
    "                if check_if_property_in_dct('charging',car) == True:\n",
    "                    elec_vehicles_dct[\"Charging\"].append(car['charging']['value'])\n",
    "                    charging += 1\n",
    "                else:\n",
    "                    elec_vehicles_dct[\"Charging\"].append(\"\")\n",
    "                    charging += 1\n",
    "                    \n",
    "                if check_if_property_in_dct('electricRange',car) == True:\n",
    "                    elec_vehicles_dct[\"Electric Range\"].append(car['electricRange']['value'])\n",
    "                    electricRange += 1\n",
    "                else:\n",
    "                    elec_vehicles_dct[\"Electric Range\"].append(\"\")\n",
    "                    electricRange += 1\n",
    "                \n",
    "                if check_if_property_in_dct('productionEndYear',car) == True:\n",
    "                    elec_vehicles_dct[\"Production End Year\"].append(car['productionEndYear']['value'])\n",
    "                    productionEndYear += 1\n",
    "                else:\n",
    "                    elec_vehicles_dct[\"Production End Year\"].append(\"\")\n",
    "                    productionEndYear +=1\n",
    "        index += 1\n",
    "    return elec_vehicles_dct"
   ]
  },
  {
   "cell_type": "code",
   "execution_count": 25,
   "id": "mathematical-expansion",
   "metadata": {},
   "outputs": [
    {
     "name": "stdout",
     "output_type": "stream",
     "text": [
      "Total amount of electronic vehicles returned:  678\n"
     ]
    }
   ],
   "source": [
    "electronic_vehicles_all_dct = get_all_electronic_vehicles(electric_cars_all, electric_vehicles_all, electric_car_models_all, battery_electric_cars_currently_in_production_all, battery_electric_cars_in_development_all, battery_electric_cars_that_were_formerly_produced_all, battery_electric_concept_cars_all, electric_city_cars_all, electric_concept_cars_all, ORA_vehicles_all, electric_sport_utility_vehicles_all, hybrid_sport_utility_vehicles_all, hybrid_electric_cars_all, diesel_electric_cars_all, self_driving_cars_all, electric_sports_cars_all)"
   ]
  },
  {
   "cell_type": "code",
   "execution_count": 28,
   "id": "coordinated-reaction",
   "metadata": {},
   "outputs": [],
   "source": [
    "import pandas as pd\n",
    "\n",
    "elec_all_df = pd.DataFrame(electronic_vehicles_all_dct)\n",
    "writer = pd.ExcelWriter('electronic_vehicles_final.xlsx', engine='xlsxwriter')\n",
    "\n",
    "elec_all_df.to_excel(writer, sheet_name='Sheet1', index=False)\n"
   ]
  },
  {
   "cell_type": "code",
   "execution_count": null,
   "id": "comprehensive-archives",
   "metadata": {},
   "outputs": [],
   "source": []
  }
 ],
 "metadata": {
  "kernelspec": {
   "display_name": "Python 3",
   "language": "python",
   "name": "python3"
  },
  "language_info": {
   "codemirror_mode": {
    "name": "ipython",
    "version": 3
   },
   "file_extension": ".py",
   "mimetype": "text/x-python",
   "name": "python",
   "nbconvert_exporter": "python",
   "pygments_lexer": "ipython3",
   "version": "3.8.5"
  }
 },
 "nbformat": 4,
 "nbformat_minor": 5
}
