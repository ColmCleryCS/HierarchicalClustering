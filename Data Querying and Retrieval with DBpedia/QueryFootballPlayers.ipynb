{
 "cells": [
  {
   "cell_type": "code",
   "execution_count": 1,
   "id": "photographic-addition",
   "metadata": {},
   "outputs": [],
   "source": [
    "from SPARQLWrapper import SPARQLWrapper, JSON\n",
    "import pandas as pd\n",
    "import ast\n",
    "writer = pd.ExcelWriter('football_players.xlsx', engine='xlsxwriter')\n",
    "writer.save()\n",
    "sparql = SPARQLWrapper('https://dbpedia.org/sparql')\n",
    "sparql.setTimeout(5000)"
   ]
  },
  {
   "cell_type": "code",
   "execution_count": 2,
   "id": "deadly-parent",
   "metadata": {},
   "outputs": [],
   "source": [
    "def get_json_football_player_data(league):\n",
    "    #Final Working version to get teams\n",
    "    q1 = \"\"\"\n",
    "    PREFIX p: <http://dbpedia.org/property/> \n",
    "    PREFIX dbo: <http://dbpedia.org/ontology/>\n",
    "    SELECT ?name ?clubname (concat('[',group_concat(distinct ?birthPlace;separator=','),']') as ?birthPlace) (concat('[',group_concat(distinct ?longitude;separator=','),']') as ?longitude) (concat('[',group_concat(distinct ?latitude;separator=','),']') as ?latitude) (concat('[\"',group_concat(distinct ?num_clubs;separator='\",\"'),'\"]') as ?num_clubs) (concat('[',group_concat(distinct ?positionlabel;separator=','),']') as ?positionlabel) (year(xsd:dateTime(?birthDate)) as ?birthDate) ?height (concat('[',group_concat(distinct ?goals;separator=','),']') as ?goals)  (concat('[',group_concat(distinct ?nationalgoals;separator=','),']') as ?nationalgoals) (concat('[',group_concat(distinct ?nationalcaps;separator=','),']') as ?nationalcaps) (concat('[',group_concat(distinct ?clubcaps;separator=','),']') as ?clubcaps) \n",
    "    WHERE {    \n",
    "    ?team <http://purl.org/dc/terms/subject> \"\"\" + league + \"\"\" .\n",
    "    ?team dbp:clubname ?clubname .\n",
    "\n",
    "    ?players dbp:name ?name .\n",
    "    ?players dbo:birthPlace ?birthPlace .\n",
    "    ?birthPlace geo:lat ?latitude .\n",
    "    ?birthPlace geo:long ?longitude .\n",
    "    ?players dbp:currentclub ?team .\n",
    "    ?players dbp:birthDate ?birthDate .\n",
    "    ?players dbp:height ?height .\n",
    "    ?players dbp:caps ?clubcaps .\n",
    "    ?players dbp:position ?position .\n",
    "    ?position rdfs:label ?positionlabel .\n",
    "\n",
    "    OPTIONAL {?players dbp:goals ?goals} .\n",
    "    OPTIONAL {?players dbp:nationalgoals ?nationalgoals} .\n",
    "    OPTIONAL {?players dbp:nationalcaps ?nationalcaps  } .\n",
    "    OPTIONAL {?players dbp:clubs ?num_clubs }.\n",
    "    FILTER(datatype(?birthDate) = <http://www.w3.org/2001/XMLSchema#date>) .\n",
    "    FILTER(datatype(?goals) = <http://www.w3.org/2001/XMLSchema#integer>) .\n",
    "    FILTER(datatype(?nationalgoals) = <http://www.w3.org/2001/XMLSchema#integer>) .\n",
    "    FILTER(datatype(?clubcaps) = <http://www.w3.org/2001/XMLSchema#integer>) .\n",
    "    FILTER(datatype(?nationalcaps) = <http://www.w3.org/2001/XMLSchema#integer>) .\n",
    "    FILTER (LANGMATCHES(LANG(?positionlabel), 'en'))\n",
    "    }\"\"\"\n",
    "    sparql.setQuery(q1)\n",
    "    sparql.setReturnFormat(JSON)\n",
    "    qres = sparql.query().convert()\n",
    "    return qres['results']['bindings']\n",
    "\n"
   ]
  },
  {
   "cell_type": "code",
   "execution_count": 3,
   "id": "previous-jerusalem",
   "metadata": {},
   "outputs": [],
   "source": [
    "prem_data = get_json_football_player_data(\"<http://dbpedia.org/resource/Category:Premier_League_clubs>\")"
   ]
  },
  {
   "cell_type": "code",
   "execution_count": 4,
   "id": "existing-benefit",
   "metadata": {},
   "outputs": [],
   "source": [
    "laliga_data = get_json_football_player_data(\"<http://dbpedia.org/resource/Category:La_Liga_clubs>\")"
   ]
  },
  {
   "cell_type": "code",
   "execution_count": 5,
   "id": "united-cricket",
   "metadata": {},
   "outputs": [],
   "source": [
    "def get_all_players(prem_data,laliga_data):\n",
    "    player_attributes_dct =  {\"name\":[],\"latitude\":[],\"longitude\":[],\"num_clubs\":[],\"clubname\":[], \"league\":[], \"birthPlace\":[], \"positionlabel\":[], \"birthDate\":[], \"height\":[], \"nationalgoals\":[], \"goals\":[], \"nationalcaps\":[], \"clubcaps\":[]}\n",
    "    leagues = [prem_data,laliga_data]\n",
    "    type_string = [\"Premier League\",\"La Liga\"]\n",
    "    index = 0\n",
    "    for league in leagues:\n",
    "        for team in league:\n",
    "            player_attributes_dct[\"name\"].append(team['name']['value'])\n",
    "            player_attributes_dct[\"longitude\"].append(team['longitude']['value'])\n",
    "            player_attributes_dct[\"latitude\"].append(team['latitude']['value'])\n",
    "            player_attributes_dct[\"clubname\"].append(team['clubname']['value'])\n",
    "            player_attributes_dct[\"num_clubs\"].append(len(ast.literal_eval(team['num_clubs']['value'])))\n",
    "            player_attributes_dct[\"positionlabel\"].append(team['positionlabel']['value'])                  \n",
    "            player_attributes_dct[\"league\"].append(type_string[index])\n",
    "            player_attributes_dct[\"birthPlace\"].append(team['birthPlace']['value'])\n",
    "            player_attributes_dct[\"birthDate\"].append(team['birthDate']['value'])\n",
    "            player_attributes_dct[\"height\"].append(team['height']['value'])\n",
    "            player_attributes_dct[\"nationalgoals\"].append(sum(ast.literal_eval(team['nationalgoals']['value'])))\n",
    "            player_attributes_dct[\"goals\"].append(sum(ast.literal_eval(team['goals']['value'])))\n",
    "            player_attributes_dct[\"nationalcaps\"].append(sum(ast.literal_eval(team['nationalcaps']['value'])))\n",
    "            player_attributes_dct[\"clubcaps\"].append(sum(ast.literal_eval(team['clubcaps']['value'])))\n",
    "            \n",
    "        index += 1\n",
    "    return player_attributes_dct\n"
   ]
  },
  {
   "cell_type": "code",
   "execution_count": 6,
   "id": "chubby-format",
   "metadata": {},
   "outputs": [],
   "source": [
    "dct1 = get_all_players(prem_data,laliga_data)\n"
   ]
  },
  {
   "cell_type": "code",
   "execution_count": 7,
   "id": "preceding-salvation",
   "metadata": {},
   "outputs": [],
   "source": [
    "import pandas as pd\n",
    "\n",
    "\n",
    "df1 = pd.DataFrame(dct1)\n",
    "\n",
    "writer = pd.ExcelWriter('football_players.xlsx', engine='xlsxwriter')\n",
    "\n",
    "# Convert the dataframe to an XlsxWriter Excel object.\n",
    "df1.to_excel(writer, sheet_name='Sheet1_Football_players', index=False)\n",
    "\n",
    "\n",
    "# Close the Pandas Excel writer and output the Excel file.\n",
    "writer.save()"
   ]
  },
  {
   "cell_type": "code",
   "execution_count": null,
   "id": "linear-poetry",
   "metadata": {},
   "outputs": [],
   "source": []
  }
 ],
 "metadata": {
  "kernelspec": {
   "display_name": "Python 3",
   "language": "python",
   "name": "python3"
  },
  "language_info": {
   "codemirror_mode": {
    "name": "ipython",
    "version": 3
   },
   "file_extension": ".py",
   "mimetype": "text/x-python",
   "name": "python",
   "nbconvert_exporter": "python",
   "pygments_lexer": "ipython3",
   "version": "3.8.5"
  }
 },
 "nbformat": 4,
 "nbformat_minor": 5
}
